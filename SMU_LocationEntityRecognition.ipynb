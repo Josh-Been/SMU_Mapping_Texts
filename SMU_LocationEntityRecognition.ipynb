{
  "nbformat": 4,
  "nbformat_minor": 0,
  "metadata": {
    "colab": {
      "name": "SMU-LocationEntityRecognition",
      "provenance": [],
      "collapsed_sections": [],
      "toc_visible": true
    },
    "language_info": {
      "codemirror_mode": {
        "name": "ipython",
        "version": 3
      },
      "file_extension": ".py",
      "mimetype": "text/x-python",
      "name": "python",
      "nbconvert_exporter": "python",
      "pygments_lexer": "ipython3",
      "version": "3.7.3"
    },
    "kernelspec": {
      "display_name": "Python 3",
      "language": "python",
      "name": "python3"
    }
  },
  "cells": [
    {
      "cell_type": "markdown",
      "metadata": {
        "id": "O_UvdgBglsBM",
        "colab_type": "text"
      },
      "source": [
        "[![Baylor Libraries Digital Scholarship Logo](https://cpb-us-w2.wpmucdn.com/blogs.baylor.edu/dist/7/7192/files/2019/08/cropped-DigitalScholarshipblog_header-2019-08-30-1.jpg)](https://bit.ly/baylords)\n",
        "## Location Entity Recognition using spaCy\n",
        "\n",
        "#### Non-Default Libraries Used\n",
        "* spaCy - https://spacy.io/\n",
        "* Geocoder - https://geocoder.readthedocs.io/index.html\n",
        "* Folium - https://github.com/python-visualization/folium\n",
        "* Wordcloud - https://github.com/amueller/word_cloud\n",
        "* Squarify - https://github.com/laserson/squarify\n",
        "\n",
        "---\n",
        "<div style=\"text-align: right\"> Joshua Been, Baylor University Libraries, 11/08/2019 </div>\n"
      ]
    },
    {
      "cell_type": "markdown",
      "metadata": {
        "id": "dKtZ_CkHlsBh",
        "colab_type": "text"
      },
      "source": [
        "#### Step 1 - Import Libraries"
      ]
    },
    {
      "cell_type": "code",
      "metadata": {
        "id": "ZxLQwe1AlsBj",
        "colab_type": "code",
        "colab": {}
      },
      "source": [
        "import spacy, en_core_web_sm, operator, collections, itertools, folium, zipfile\n",
        "from spacy import displacy\n",
        "try:\n",
        "    import geocoder\n",
        "except:\n",
        "    !pip install geocoder\n",
        "    import geocoder\n",
        "try:\n",
        "    import squarify\n",
        "except:\n",
        "    !pip install squarify\n",
        "    import squarify\n",
        "from collections import Counter\n",
        "from wordcloud import WordCloud\n",
        "import matplotlib.pyplot as plt\n",
        "nlp = en_core_web_sm.load()\n",
        "print('\\n >> Completed!')"
      ],
      "execution_count": 0,
      "outputs": []
    },
    {
      "cell_type": "markdown",
      "metadata": {
        "id": "DRg65Cu9lsBq",
        "colab_type": "text"
      },
      "source": [
        "#### Step 2 - Browse for File or URL\n",
        "#### Files can be .txt or .zip of .txt files\n",
        "#### URLs must point to a webpage. Will not work with online files."
      ]
    },
    {
      "cell_type": "code",
      "metadata": {
        "id": "I55VGLgwlsBs",
        "colab_type": "code",
        "colab": {}
      },
      "source": [
        "# Leave url empty to browse for local file\n",
        "# url should point to webpage, not a file hosted online\n",
        "url=''\n",
        "\n",
        "if url!='':\n",
        "    import requests\n",
        "    from bs4 import BeautifulSoup\n",
        "\n",
        "    # define header or pages may refuse connection\n",
        "    header = {'User-Agent': 'Mozilla/5.0 (Macintosh; Intel Mac OS X 10_10_1) AppleWebKit/537.36 (KHTML, like Gecko) Chrome/39.0.2171.95 Safari/537.36'}\n",
        "    htmlContent = requests.get(url, headers=header)\n",
        "    # remove tags using beautiful soup\n",
        "    contents = BeautifulSoup(htmlContent.text, \"lxml\").text\n",
        "    # remove line breaks and tab symbols\n",
        "    contents=contents.replace('\\n',' ').replace('\\r','').replace('\\t','')\n",
        "    print(url, 'web content obtained.')\n",
        "else:\n",
        "    from google.colab import files\n",
        "\n",
        "    # Browse/Upload File\n",
        "    up=files.upload()\n",
        "    # File passed to variable doc\n",
        "    doc=next(iter(up))\n",
        "\n",
        "    if doc.endswith('.txt'):\n",
        "        # Read a file using the variable doc\n",
        "        f=open(doc, 'r', encoding='utf-8-sig')\n",
        "        # Pass into variable named contents\n",
        "        contents=f.read()\n",
        "        # close connection to file\n",
        "        f.close()\n",
        "    elif doc.endswith('.zip'):\n",
        "        contents=''\n",
        "        with zipfile.ZipFile(doc, 'r') as zip_ref:\n",
        "            zip_ref.extractall()\n",
        "        for txt in zip_ref.namelist():\n",
        "            if txt.endswith('.txt'):\n",
        "                f=open(txt, 'r', encoding='utf-8-sig')\n",
        "                contents=contents+'\\n'+f.read()\n",
        "                f.close()\n",
        "    else:\n",
        "        print('Sorry, unknown file extension. Please try again')"
      ],
      "execution_count": 0,
      "outputs": []
    },
    {
      "cell_type": "markdown",
      "metadata": {
        "id": "WQwy2lr7lsBy",
        "colab_type": "text"
      },
      "source": [
        "#### Step 4 -Frequencies for All Entities\n",
        "\n",
        "https://spacy.io/api/annotation#section-named-entities"
      ]
    },
    {
      "cell_type": "code",
      "metadata": {
        "id": "QiO-4knWlsB0",
        "colab_type": "code",
        "colab": {}
      },
      "source": [
        "# This will hold cumulative entities from all sections\n",
        "full_entities=[]\n",
        "full_labels=[]\n",
        "full_locations=[]\n",
        "start = 0\n",
        "i = 1\n",
        "# spaCy can process up to 1,000,000 characters at once, so we increment at this max count\n",
        "increment = 1000000\n",
        "while start<len(contents):\n",
        "    # reassign max increment if greater than number of remaining characters\n",
        "    if increment>len(contents):\n",
        "        increment=len(contents)\n",
        "    print(' >> Section #',i,'(character',start,'-',increment,'/',len(contents),')')\n",
        "    # Pass batch of characters to nlp processor\n",
        "    docs = nlp(contents[start:increment])\n",
        "    # Create list of tuples containing text and entity label\n",
        "    entities = [(X.text, X.label_) for X in docs.ents]\n",
        "    # Store each list of tuples in cumulative list\n",
        "    full_entities=full_entities+entities\n",
        "    # Create list of labels\n",
        "    labels = [x.label_ for x in docs.ents]\n",
        "    # Store each list of labels in cumulative list\n",
        "    full_labels=full_labels+labels\n",
        "    print(len(entities), 'entities found')\n",
        "    print(Counter(labels),'\\n______\\n')\n",
        "    start+=1000000\n",
        "    increment+=1000000\n",
        "    i+=1\n",
        "if i>2:\n",
        "    print('\\n >> Cumulative Results','\\n',len(full_entities),'entities found\\n',Counter(full_labels))\n",
        "\n",
        "# Cumulative Frequencies of GPE and LOC Locations\n",
        "print('Cumulative Frequencies of GPE and LOC Locations')\n",
        "locations=[]\n",
        "locations_list=[]\n",
        "for entity in full_entities:\n",
        "    if entity[1]=='GPE' or entity[1]=='LOC':\n",
        "        locations.append(entity)\n",
        "        locations_list.append(entity[0])\n",
        "locations_d=Counter(locations_list)\n",
        "display(Counter(locations).most_common())\n",
        "    \n",
        "print('\\n >> Completed!')"
      ],
      "execution_count": 0,
      "outputs": []
    },
    {
      "cell_type": "markdown",
      "metadata": {
        "id": "vahM6zAHlsB7",
        "colab_type": "text"
      },
      "source": [
        "#### Step 5 - View Entities Highlighted In-Line\n",
        "#### PLEASE NOTE the options line"
      ]
    },
    {
      "cell_type": "code",
      "metadata": {
        "id": "vs3a60gllsB-",
        "colab_type": "code",
        "colab": {}
      },
      "source": [
        "options={'ents':['GPE','LOC']}\n",
        "start = 0\n",
        "i = 1\n",
        "increment = 1000000\n",
        "while start<len(contents):\n",
        "    print(' >> Section #',i,'(character',start,'-',increment,'/',len(contents),')')\n",
        "    tmp_text = contents[start:increment]\n",
        "    \n",
        "    # displaCy is spaCy's primary visualization method\n",
        "    ############################################\n",
        "    # To view only location entities, the following line should be:\n",
        "    # displacy.render(nlp(contents), jupyter=True, style='ent', options=options)\n",
        "    #\n",
        "    # To view all entities, the line should be:\n",
        "    # displacy.render(nlp(contents), jupyter=True, style='ent')\n",
        "    ############################################\n",
        "    displacy.render(nlp(contents), jupyter=True, style='ent')\n",
        "    \n",
        "    start+=1000000\n",
        "    increment+=1000000\n",
        "    if increment>len(contents):\n",
        "        increment=len(contents)\n",
        "    i+=1"
      ],
      "execution_count": 0,
      "outputs": []
    },
    {
      "cell_type": "markdown",
      "metadata": {
        "id": "0ulCMj6elsCE",
        "colab_type": "text"
      },
      "source": [
        "#### Step 6 - Visualizations: Map, Wordcloud, Bar chart, Treemap\n",
        "\n",
        "#### Required: Bing Maps API key (free)\n",
        "\n",
        "* Go to http://www.bingmapsportal.com/, and sign in with your Microsoft account (or create a new account).\n",
        "* Under My Account, select My Keys.\n",
        "* Click to create a new key.\n",
        "* Enter your name or company as the Application name, and select \"Basic\" as your key type and \"Dev/Test\" as the application type.\n",
        "* Your new key will appear at the bottom of the \"Create or view keys\" page; it will be 64 characters long and will probably begin with \"A\"."
      ]
    },
    {
      "cell_type": "code",
      "metadata": {
        "scrolled": false,
        "id": "Mw68f2xElsCG",
        "colab_type": "code",
        "colab": {}
      },
      "source": [
        "# Specify Options Below\n",
        "#######################\n",
        "## ALL VISUALIZATION OPTIONS\n",
        "min_location_counts_map = 1 # minimum frequency for inclusion\n",
        "## MAP OPTIONS\n",
        "bkey=''\n",
        "map_base_type = 'Open Street Map' #options: Stamen Toner, Stamen Terrain, Stamen Watercolor, Open Street Map \n",
        "zoom_default=4\n",
        "start_location=[31.51073, -96.4247]  # U.S. 31.51073, -96.4247, World 0,0, Texas 31.1351682, -99.3350552\n",
        "geocode_confidence=['High'] # options: High, Medium, Low - Format: ['High','Medium','Low]\n",
        "radius_multiplier=1\n",
        "outline_color='#154734'\n",
        "fill_polygon_color='#154734'\n",
        "## BAR CHART, TREEMAP OPTIONS\n",
        "Number_Top_Locations=20\n",
        "#######################\n",
        "\n",
        "filtered_locations={}\n",
        "\n",
        "if bkey!='':\n",
        "\n",
        "  m = folium.Map(\n",
        "      location=start_location,\n",
        "      zoom_start=zoom_default,\n",
        "      tiles=map_base_type\n",
        "  )\n",
        "\n",
        "  for key, value in locations_d.items():\n",
        "      try:\n",
        "          if value>=min_location_counts_map:\n",
        "              g = geocoder.bing(key, key=bkey)\n",
        "              if g.raw['confidence'] in geocode_confidence:\n",
        "                  filtered_locations[key]=value\n",
        "                  folium.CircleMarker(\n",
        "                      location=[g.lat, g.lng],\n",
        "                          radius=value*radius_multiplier,\n",
        "                          popup=key+' '+str(value),\n",
        "                          tooltip=key+' '+str(value),\n",
        "                          color=outline_color,\n",
        "                          fill=True,\n",
        "                          fill_color=fill_polygon_color\n",
        "                      ).add_to(m)\n",
        "      except:\n",
        "          pass\n",
        "\n",
        "  display(m)\n",
        "  m.save('index.html')\n",
        "\n",
        "else:\n",
        "    filtered_locations=locations_d\n",
        "\n",
        "# Sort List\n",
        "sorted_x = sorted(filtered_locations.items(), key=operator.itemgetter(1), reverse=True)\n",
        "filtered_locations=collections.OrderedDict(sorted_x)\n",
        "\n",
        "# Wordcloud\n",
        "print('\\n\\n')\n",
        "wordcloud = WordCloud()\n",
        "wordcloud.generate_from_frequencies(frequencies=filtered_locations)\n",
        "\n",
        "# Display the generated image:\n",
        "plt.figure( figsize=(20,10), facecolor='k')\n",
        "plt.imshow(wordcloud, interpolation='bilinear')\n",
        "plt.tight_layout(pad=0)\n",
        "plt.axis(\"off\")\n",
        "\n",
        "# Bar Chart\n",
        "print('\\n\\n')\n",
        "# Slice for top n locations\n",
        "top_locations=dict(itertools.islice(filtered_locations.items(), Number_Top_Locations))\n",
        "\n",
        "# double-check to ensure sorted\n",
        "sorted_x = sorted(top_locations.items(), key=operator.itemgetter(1), reverse=True)\n",
        "top_locations=collections.OrderedDict(sorted_x)\n",
        "\n",
        "plt.figure(num=None, figsize=(8, 6), dpi=150, facecolor='w', edgecolor='k')\n",
        "plt.bar(range(len(top_locations)), list(top_locations.values()), align='center')\n",
        "plt.xticks(range(len(top_locations)), list(top_locations.keys()), rotation=75)\n",
        "\n",
        "plt.show()\n",
        "\n",
        "# Treemap\n",
        "print('\\n\\n')\n",
        "squarify.plot(sizes=list(top_locations.values()), label=list(top_locations.keys()), alpha=1, color=['red','orange','yellow','green','blue','indigo','violet'] )\n",
        "\n",
        "fig = plt.gcf()\n",
        "fig.set_size_inches(20, 8)\n",
        "plt.axis('off')\n",
        "plt.show() "
      ],
      "execution_count": 0,
      "outputs": []
    }
  ]
}
